{
 "cells": [
  {
   "cell_type": "code",
   "execution_count": 0,
   "metadata": {
    "application/vnd.databricks.v1+cell": {
     "cellMetadata": {
      "byteLimit": 2048000,
      "rowLimit": 10000
     },
     "inputWidgets": {},
     "nuid": "261c9b95-913c-4804-bb4f-b8fed1b15d3a",
     "showTitle": false,
     "tableResultSettingsMap": {},
     "title": ""
    }
   },
   "outputs": [],
   "source": [
    "# dbutils.library.restartPython()\n",
    "\n",
    "# ⬇️ 1. Clean up sys.path – ONE project root only\n",
    "import importlib\n",
    "import pathlib\n",
    "import sys\n",
    "\n",
    "root = pathlib.Path(\"/Workspace/Users/tom_corbin1@hotmail.com/ETL-framework\")\n",
    "\n",
    "# Drop any entry that lives inside the src tree\n",
    "sys.path = [p for p in sys.path if not p.endswith((\"src\", \"src/delta_engine\"))]\n",
    "\n",
    "# Put the project root right at the front\n",
    "sys.path.insert(0, str(root))\n",
    "\n",
    "# ⬇️ 2. Nuke the negative import cache\n",
    "importlib.invalidate_caches()\n",
    "\n",
    "\n",
    "import pyspark.sql.types as T\n",
    "\n",
    "from src.delta_engine.desired.builders import build_desired_catalog\n",
    "from src.delta_engine.engine import Engine, OrchestratorOptions\n",
    "from src.delta_engine.models import Column, Table\n",
    "from src.delta_engine.state.ports import Aspect, SnapshotPolicy"
   ]
  },
  {
   "cell_type": "code",
   "execution_count": 0,
   "metadata": {
    "application/vnd.databricks.v1+cell": {
     "cellMetadata": {
      "byteLimit": 2048000,
      "rowLimit": 10000
     },
     "inputWidgets": {},
     "nuid": "4f888ae7-2b81-45db-97de-8bbfb9f99023",
     "showTitle": false,
     "tableResultSettingsMap": {},
     "title": ""
    }
   },
   "outputs": [],
   "source": [
    "tables = [\n",
    "    Table(\n",
    "        catalog_name=\"dev\",\n",
    "        schema_name=\"silver\",\n",
    "        table_name=\"demo_table\",\n",
    "        columns=[\n",
    "            Column(\"id\", T.IntegerType(), is_nullable=False, comment=\"pk\"),\n",
    "            Column(\"name\", T.StringType(), is_nullable=True, comment=\"name\"),\n",
    "        ],\n",
    "        comment=\"Demo table\",\n",
    "        properties={\"delta.columnMapping.mode\": \"name\"},\n",
    "        primary_key=[\"id\"],\n",
    "    )\n",
    "]\n",
    "\n",
    "options = OrchestratorOptions(\n",
    "    aspects=frozenset({Aspect.SCHEMA, Aspect.COMMENTS, Aspect.PROPERTIES, Aspect.PRIMARY_KEY}),\n",
    "    snapshot_policy=SnapshotPolicy.PERMISSIVE,\n",
    "    execute=True,\n",
    "    fail_on_validation_errors=True,\n",
    ")\n",
    "\n",
    "desired_catalog = build_desired_catalog(tables)\n",
    "\n",
    "\n",
    "engine = Engine(spark)\n",
    "report = engine.run(desired_catalog, options)\n",
    "print(\"Actions:\", len(report.plan.actions))\n",
    "print(\"Validation OK?\", report.validation.ok)\n",
    "\n",
    "\n",
    "from pprint import pprint\n",
    "\n",
    "pprint(report.__dict__)"
   ]
  },
  {
   "cell_type": "code",
   "execution_count": 0,
   "metadata": {
    "application/vnd.databricks.v1+cell": {
     "cellMetadata": {},
     "inputWidgets": {},
     "nuid": "9dc1f382-ad68-47db-a724-8b7782126c00",
     "showTitle": false,
     "tableResultSettingsMap": {},
     "title": ""
    }
   },
   "outputs": [],
   "source": [
    "{\n",
    "    \"plan\": Plan(\n",
    "        actions=(\n",
    "            AlignTable(\n",
    "                table=FullyQualifiedTableName(catalog=\"dev\", schema=\"silver\", table=\"demo_table\"),\n",
    "                add_columns=None,\n",
    "                drop_columns=None,\n",
    "                alter_nullability=(),\n",
    "                set_column_comments=None,\n",
    "                set_table_comment=None,\n",
    "                set_table_properties=SetTableProperties(\n",
    "                    properties={\"delta.columnMapping.mode\": \"name\"}\n",
    "                ),\n",
    "                add_primary_key=None,\n",
    "                drop_primary_key=None,\n",
    "            ),\n",
    "        )\n",
    "    ),\n",
    "    \"snapshot\": SnapshotResult(\n",
    "        state=CatalogState(\n",
    "            tables={\n",
    "                \"`dev`.`silver`.`demo_table`\": TableState(\n",
    "                    catalog_name=\"dev\",\n",
    "                    schema_name=\"silver\",\n",
    "                    table_name=\"demo_table\",\n",
    "                    exists=True,\n",
    "                    columns=(\n",
    "                        ColumnState(\n",
    "                            name=\"id\", data_type=IntegerType(), is_nullable=False, comment=\"pk\"\n",
    "                        ),\n",
    "                        ColumnState(\n",
    "                            name=\"name\", data_type=StringType(), is_nullable=True, comment=\"name\"\n",
    "                        ),\n",
    "                        ColumnState(\n",
    "                            name=\"new_column\",\n",
    "                            data_type=StringType(),\n",
    "                            is_nullable=True,\n",
    "                            comment=\"new\",\n",
    "                        ),\n",
    "                    ),\n",
    "                    table_comment=\"Demo table\",\n",
    "                    table_properties={\n",
    "                        \"delta.columnMapping.mode\": \"name\",\n",
    "                        \"delta.enableDeletionVectors\": \"true\",\n",
    "                    },\n",
    "                    primary_key=PrimaryKeyState(\n",
    "                        name=\"pk_dev_silver_demo_table__id\", columns=(\"id\",)\n",
    "                    ),\n",
    "                )\n",
    "            }\n",
    "        ),\n",
    "        warnings=(),\n",
    "    ),\n",
    "    \"validation\": ValidationReport(diagnostics=()),\n",
    "}"
   ]
  }
 ],
 "metadata": {
  "application/vnd.databricks.v1+notebook": {
   "computePreferences": {
    "hardware": {
     "accelerator": null,
     "gpuPoolId": null,
     "memory": null
    }
   },
   "dashboards": [],
   "environmentMetadata": {
    "base_environment": "",
    "environment_version": "2"
   },
   "inputWidgetPreferences": null,
   "language": "python",
   "notebookMetadata": {
    "pythonIndentUnit": 4
   },
   "notebookName": "Untitled Notebook 2025-08-13 10_49_54",
   "widgets": {}
  },
  "language_info": {
   "name": "python"
  }
 },
 "nbformat": 4,
 "nbformat_minor": 0
}
