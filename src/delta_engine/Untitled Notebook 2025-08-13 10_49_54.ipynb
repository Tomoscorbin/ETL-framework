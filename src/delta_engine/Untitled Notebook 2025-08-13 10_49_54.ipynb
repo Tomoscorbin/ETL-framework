{
 "cells": [
  {
   "cell_type": "code",
   "execution_count": 0,
   "metadata": {
    "application/vnd.databricks.v1+cell": {
     "cellMetadata": {
      "byteLimit": 2048000,
      "rowLimit": 10000
     },
     "inputWidgets": {},
     "nuid": "261c9b95-913c-4804-bb4f-b8fed1b15d3a",
     "showTitle": false,
     "tableResultSettingsMap": {},
     "title": ""
    }
   },
   "outputs": [],
   "source": [
    "# dbutils.library.restartPython()\n",
    "\n",
    "# ⬇️ 1. Clean up sys.path – ONE project root only\n",
    "import sys, importlib, pathlib\n",
    "\n",
    "root = pathlib.Path(\"/Workspace/Users/tom_corbin1@hotmail.com/ETL-framework\")\n",
    "\n",
    "# Drop any entry that lives inside the src tree\n",
    "sys.path = [p for p in sys.path if not p.endswith((\"src\", \"src/delta_engine\"))]\n",
    "\n",
    "# Put the project root right at the front\n",
    "sys.path.insert(0, str(root))\n",
    "\n",
    "# ⬇️ 2. Nuke the negative import cache\n",
    "importlib.invalidate_caches()\n",
    "\n",
    "\n",
    "from pyspark.sql import SparkSession\n",
    "import pyspark.sql.types as T\n",
    "\n",
    "from src.delta_engine.engine import Engine, OrchestratorOptions\n",
    "from src.delta_engine.state.ports import Aspect, SnapshotPolicy\n",
    "from src.delta_engine.models import Table, Column\n",
    "from src.delta_engine.desired.builders import build_desired_catalog"
   ]
  },
  {
   "cell_type": "code",
   "execution_count": 0,
   "metadata": {
    "application/vnd.databricks.v1+cell": {
     "cellMetadata": {
      "byteLimit": 2048000,
      "rowLimit": 10000
     },
     "inputWidgets": {},
     "nuid": "4f888ae7-2b81-45db-97de-8bbfb9f99023",
     "showTitle": false,
     "tableResultSettingsMap": {},
     "title": ""
    }
   },
   "outputs": [],
   "source": [
    "tables = [\n",
    "    Table(\n",
    "        catalog_name=\"dev\",\n",
    "        schema_name=\"silver\",\n",
    "        table_name=\"demo_table\",\n",
    "        columns=[\n",
    "            Column(\"id\", T.IntegerType(), is_nullable=False, comment=\"pk\"),\n",
    "            Column(\"name\", T.StringType(), is_nullable=True, comment=\"name\"),\n",
    "        ],\n",
    "        comment=\"Demo table\",\n",
    "        properties={\"delta.columnMapping.mode\": \"name\"},\n",
    "        primary_key=[\"id\"],\n",
    "    )\n",
    "]\n",
    "\n",
    "options = OrchestratorOptions(\n",
    "    aspects=frozenset({Aspect.SCHEMA, Aspect.COMMENTS, Aspect.PROPERTIES, Aspect.PRIMARY_KEY}),\n",
    "    snapshot_policy=SnapshotPolicy.PERMISSIVE,\n",
    "    execute=True,\n",
    "    fail_on_validation_errors=True,\n",
    ")\n",
    "\n",
    "desired_catalog = build_desired_catalog(tables)\n",
    "\n",
    "\n",
    "engine = Engine(spark)\n",
    "report = engine.run(desired_catalog, options)\n",
    "print(\"Actions:\", len(report.plan.actions))\n",
    "print(\"Validation OK?\", report.validation.ok)\n"
   ]
  },
  {
   "cell_type": "code",
   "execution_count": 0,
   "metadata": {
    "application/vnd.databricks.v1+cell": {
     "cellMetadata": {},
     "inputWidgets": {},
     "nuid": "9cf7c048-944c-4f18-9684-852e2d72010d",
     "showTitle": false,
     "tableResultSettingsMap": {},
     "title": ""
    }
   },
   "outputs": [],
   "source": []
  }
 ],
 "metadata": {
  "application/vnd.databricks.v1+notebook": {
   "computePreferences": {
    "hardware": {
     "accelerator": null,
     "gpuPoolId": null,
     "memory": null
    }
   },
   "dashboards": [],
   "environmentMetadata": {
    "base_environment": "",
    "environment_version": "2"
   },
   "inputWidgetPreferences": null,
   "language": "python",
   "notebookMetadata": {
    "pythonIndentUnit": 4
   },
   "notebookName": "Untitled Notebook 2025-08-13 10_49_54",
   "widgets": {}
  },
  "language_info": {
   "name": "python"
  }
 },
 "nbformat": 4,
 "nbformat_minor": 0
}
