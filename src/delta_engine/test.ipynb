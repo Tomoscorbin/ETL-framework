{
 "cells": [
  {
   "cell_type": "code",
   "execution_count": 0,
   "metadata": {
    "application/vnd.databricks.v1+cell": {
     "cellMetadata": {
      "byteLimit": 2048000,
      "rowLimit": 10000
     },
     "inputWidgets": {},
     "nuid": "c2891046-fe40-4340-9a60-7dda8fd73ac3",
     "showTitle": false,
     "tableResultSettingsMap": {},
     "title": ""
    }
   },
   "outputs": [],
   "source": [
    "# ⬇️ 1. Clean up sys.path – ONE project root only\n",
    "import sys, importlib, pathlib\n",
    "\n",
    "root = pathlib.Path(\"/Workspace/Users/tom_corbin1@hotmail.com/ETL-framework\")\n",
    "\n",
    "# Drop any entry that lives inside the src tree\n",
    "sys.path = [p for p in sys.path if not p.endswith((\"src\", \"src/delta_engine\"))]\n",
    "\n",
    "# Put the project root right at the front\n",
    "sys.path.insert(0, str(root))\n",
    "\n",
    "# ⬇️ 2. Nuke the negative import cache\n",
    "importlib.invalidate_caches()"
   ]
  },
  {
   "cell_type": "code",
   "execution_count": 0,
   "metadata": {
    "application/vnd.databricks.v1+cell": {
     "cellMetadata": {
      "byteLimit": 2048000,
      "rowLimit": 10000
     },
     "inputWidgets": {},
     "nuid": "41aa6dca-441e-43e0-9f1c-d7546e41a44e",
     "showTitle": false,
     "tableResultSettingsMap": {},
     "title": ""
    }
   },
   "outputs": [],
   "source": [
    "from models import Column, Table\n",
    "from orchestrate.orchestrator import Orchestrator\n",
    "import pyspark.sql.types as T\n",
    "\n",
    "demo_table = Table(\n",
    "    table_name=\"demo_table\",\n",
    "    schema_name=\"silver\",\n",
    "    catalog_name=\"dev\",\n",
    "    columns=[\n",
    "        Column(\n",
    "            name=\"id\",\n",
    "            data_type=T.IntegerType(),\n",
    "            comment=\"Unique identifier\"\n",
    "        )\n",
    "    ],\n",
    "    primary_key=[\"id\"]\n",
    ")\n",
    "\n",
    "Orchestrator(spark).sync_tables([demo_table])"
   ]
  },
  {
   "cell_type": "code",
   "execution_count": 0,
   "metadata": {
    "application/vnd.databricks.v1+cell": {
     "cellMetadata": {
      "byteLimit": 2048000,
      "rowLimit": 10000
     },
     "inputWidgets": {},
     "nuid": "4eab9ee8-22d9-4e35-a2be-8f467c652cc7",
     "showTitle": false,
     "tableResultSettingsMap": {},
     "title": ""
    }
   },
   "outputs": [],
   "source": [
    "dbutils.library.restartPython()"
   ]
  },
  {
   "cell_type": "code",
   "execution_count": 0,
   "metadata": {
    "application/vnd.databricks.v1+cell": {
     "cellMetadata": {
      "byteLimit": 2048000,
      "rowLimit": 10000
     },
     "inputWidgets": {},
     "nuid": "f48f7d14-4bcc-4bab-b4a8-f07bf5e250a4",
     "showTitle": false,
     "tableResultSettingsMap": {},
     "title": ""
    }
   },
   "outputs": [],
   "source": [
    "bool(spark.catalog.tableExists(\"dev.silver.demo_table\"))"
   ]
  }
 ],
 "metadata": {
  "application/vnd.databricks.v1+notebook": {
   "computePreferences": {
    "hardware": {
     "accelerator": null,
     "gpuPoolId": null,
     "memory": null
    }
   },
   "dashboards": [],
   "environmentMetadata": {
    "base_environment": "",
    "environment_version": "2"
   },
   "inputWidgetPreferences": null,
   "language": "python",
   "notebookMetadata": {
    "mostRecentlyExecutedCommandWithImplicitDF": {
     "commandId": 8749387750415460,
     "dataframes": [
      "_sqldf"
     ]
    },
    "pythonIndentUnit": 4
   },
   "notebookName": "test",
   "widgets": {}
  },
  "language_info": {
   "name": "python"
  }
 },
 "nbformat": 4,
 "nbformat_minor": 0
}
